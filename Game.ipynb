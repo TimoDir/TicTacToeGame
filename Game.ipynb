{
 "cells": [
  {
   "cell_type": "markdown",
   "metadata": {},
   "source": [
    "# Tic Tac Toe game Project:\n",
    "In this project, I must use what I've learned to create a Tic Tac Toe game.\n",
    "\n",
    "Requirements:\n",
    "\n",
    "* 2 players should be able to play the game (both sitting at the same computer)\n",
    "* The board should be printed out every time a player makes a move\n",
    "* You should be able to accept input of the player position and then place a symbol on the board"
   ]
  },
  {
   "cell_type": "code",
   "execution_count": 19,
   "metadata": {},
   "outputs": [],
   "source": [
    "# Importation of the clear_output function\n",
    "from IPython.display import clear_output\n",
    "\n",
    "# Creation of the variable olding the board game and the player turn\n",
    "boardgame = [   ['     ','|','  A  ','|','  B  ','|','  C  ','|'],\n",
    "                ['_____','_','_____','_','_____','_','_____','_'],\n",
    "                ['  1  ','|','  .  ','|','  .  ','|','  .  ','|'],\n",
    "                ['_____','_','_____','_','_____','_','_____','_'],\n",
    "                ['  2  ','|','  .  ','|','  .  ','|','  .  ','|'],\n",
    "                ['_____','_','_____','_','_____','_','_____','_'],\n",
    "                ['  3  ','|','  .  ','|','  .  ','|','  .  ','|'],\n",
    "                ['_____','_','_____','_','_____','_','_____','_'],]\n",
    "player = '-Player 1-'\n",
    "# for row in boardgame: print(''.join(row))"
   ]
  },
  {
   "cell_type": "code",
   "execution_count": 20,
   "metadata": {},
   "outputs": [],
   "source": [
    "# who will be used to reinitiat the board and to play the game\n",
    "def reset():\n",
    "    global player, boardgame\n",
    "    player = '-Player 1-'\n",
    "    boardgame = [   ['     ','|','  A  ','|','  B  ','|','  C  ','|'],\n",
    "                    ['_____','_','_____','_','_____','_','_____','_'],\n",
    "                    ['  1  ','|','  .  ','|','  .  ','|','  .  ','|'],\n",
    "                    ['_____','_','_____','_','_____','_','_____','_'],\n",
    "                    ['  2  ','|','  .  ','|','  .  ','|','  .  ','|'],\n",
    "                    ['_____','_','_____','_','_____','_','_____','_'],\n",
    "                    ['  3  ','|','  .  ','|','  .  ','|','  .  ','|'],\n",
    "                    ['_____','_','_____','_','_____','_','_____','_'],]\n",
    "    return boardgame"
   ]
  },
  {
   "cell_type": "code",
   "execution_count": 21,
   "metadata": {},
   "outputs": [],
   "source": [
    "def display_game():\n",
    "    for row in boardgame: print(''.join(row))"
   ]
  },
  {
   "cell_type": "code",
   "execution_count": 22,
   "metadata": {},
   "outputs": [],
   "source": [
    "# creation of the function who will take car of the user choice\n",
    "def position_choice():\n",
    "    choice = 'Wrong'\n",
    "    while choice not in ['A1','A2','A3','B1','B2','B3','C1','C2','C3',]:\n",
    "        choice = input('Place your token by choising a position with a letter between A-C and a number 1-3 :')\n",
    "        if choice not in ['A1','A2','A3','B1','B2','B3','C1','C2','C3',]:\n",
    "            #clear_output()\n",
    "            display_game()\n",
    "            print(\"You didn't chose a good position, chose a letter between A-C and a number 1-3 exemple:'A1' for the corner up left.\")\n",
    "    return choice"
   ]
  },
  {
   "cell_type": "code",
   "execution_count": 23,
   "metadata": {},
   "outputs": [],
   "source": [
    "# Creation of a function who will intervet player turn and token used\n",
    "def gamer():\n",
    "    global player\n",
    "    if player == '-Player 1-':\n",
    "        print(f\"It's {player} turn:\")\n",
    "        player = '-Player 2-'\n",
    "        return '  O  '\n",
    "    elif player == '-Player 2-':\n",
    "        print(f\"It's {player} turn:\")\n",
    "        player = '-Player 1-'\n",
    "        return '  X  '\n",
    "    else :\n",
    "        print(f\"It's {player} turn:\")\n",
    "        player = '-Player 1-'\n",
    "        return '  O  '\n",
    "        \n",
    "    "
   ]
  },
  {
   "cell_type": "code",
   "execution_count": 24,
   "metadata": {},
   "outputs": [],
   "source": [
    "# Creation of the function who will controle the board and insert the X or O if space avaiable \n",
    "def position_remplacement(position,gamer):\n",
    "    global boardgame\n",
    "    token = gamer()\n",
    "    remplace = False\n",
    "    dict_case = {   'A1': [2,2],'A2': [4,2],'A3': [6,2],\n",
    "                    'B1': [2,4],'B2': [4,4],'B3': [6,4],\n",
    "                    'C1': [2,6],'C2': [4,6],'C3': [6,6]}\n",
    "    while remplace == False:\n",
    "        pos = position()\n",
    "        choice = boardgame[dict_case[pos][0]][dict_case[pos][1]]\n",
    "        if choice == '  .  ':\n",
    "            boardgame[dict_case[pos][0]][dict_case[pos][1]] = token\n",
    "            remplace = True\n",
    "        elif choice == '  O  ' or choice == '  X  ':\n",
    "            print(\"There is already a Token in this case chose another one\")"
   ]
  },
  {
   "cell_type": "code",
   "execution_count": 25,
   "metadata": {},
   "outputs": [],
   "source": [
    "def check_win():\n",
    "    global boardgame, player\n",
    "    winning_player1 = 3*'  O  '\n",
    "    winning_player2 = 3*'  X  '\n",
    "    dict_winning_case = [   [[2,2],[2,4],[2,6]],\n",
    "                            [[4,2],[4,4],[4,6]],\n",
    "                            [[6,2],[6,4],[6,6]],\n",
    "                            [[2,2],[4,2],[6,2]],\n",
    "                            [[2,4],[4,4],[6,4]],\n",
    "                            [[2,6],[4,6],[6,6]],\n",
    "                            [[2,2],[4,4],[6,6]],\n",
    "                            [[2,6],[4,4],[6,2]]]\n",
    "    count_dot = 0\n",
    "    win = False\n",
    "    for line in dict_winning_case:\n",
    "        count_dot += (boardgame[line[0][0]][line[0][1]].count('  .  ')+boardgame[line[1][0]][line[1][1]].count('  .  ')+boardgame[line[2][0]][line[2][1]].count('  .  '))\n",
    "        #Win handeling for Player 1:\n",
    "        if (boardgame[line[0][0]][line[0][1]]+boardgame[line[1][0]][line[1][1]]+boardgame[line[2][0]][line[2][1]]) == winning_player1:\n",
    "            print('Player 1 win!')\n",
    "            print(\"If you want an other party, type Y to continue.\")\n",
    "            win = True\n",
    "            reset()\n",
    "        #Win handeling for Player 2:\n",
    "        elif (boardgame[line[0][0]][line[0][1]]+boardgame[line[1][0]][line[1][1]]+boardgame[line[2][0]][line[2][1]]) == winning_player2:\n",
    "            print('Player 2 win!')\n",
    "            print(\"If you want an other party, type Y to continue.\")\n",
    "            win = True\n",
    "            reset()\n",
    "        else: pass\n",
    "\n",
    "    #Draw handeling:\n",
    "    if count_dot == 0:\n",
    "        print(\"It's a draw!\")\n",
    "        print(\"If you want an other party, type Y to continue.\")\n",
    "        reset()\n",
    "    elif win == False: \n",
    "        print(f\"It will be {player} turn.\")\n",
    "    elif win == True: \n",
    "        pass\n",
    "            \n",
    "    "
   ]
  },
  {
   "cell_type": "code",
   "execution_count": 26,
   "metadata": {},
   "outputs": [],
   "source": [
    "def check_continue():\n",
    "    correct_answer = ['Y','N']\n",
    "    continue_handle = 'WRONG'\n",
    "    while continue_handle not in correct_answer:\n",
    "        continue_handle = input(\"Did you want to continue? Y N\")\n",
    "        if continue_handle == 'Y':\n",
    "            return True\n",
    "        elif continue_handle == 'N':\n",
    "            return False\n",
    "        else: \n",
    "            print(\"You must answer by 'Y' for a yes or 'N' for no.\")"
   ]
  },
  {
   "cell_type": "code",
   "execution_count": 27,
   "metadata": {},
   "outputs": [
    {
     "name": "stdout",
     "output_type": "stream",
     "text": [
      "     |  A  |  B  |  C  |\n",
      "________________________\n",
      "  1  |  O  |  X  |  O  |\n",
      "________________________\n",
      "  2  |  O  |  X  |  O  |\n",
      "________________________\n",
      "  3  |  X  |  O  |  X  |\n",
      "________________________\n",
      "It's a draw!\n",
      "If you want an other party, type Y to continue.\n",
      "You must answer by 'Y' for a yes or 'N' for no.\n"
     ]
    }
   ],
   "source": [
    "game_on = True\n",
    "reset()\n",
    "\n",
    "while game_on:\n",
    "    clear_output()\n",
    "    display_game()\n",
    "\n",
    "    position_remplacement(position_choice, gamer)\n",
    "    \n",
    "    clear_output()\n",
    "    display_game()\n",
    "    check_win()\n",
    "    game_on = check_continue()"
   ]
  }
 ],
 "metadata": {
  "kernelspec": {
   "display_name": "Python 3 (ipykernel)",
   "language": "python",
   "name": "python3"
  },
  "language_info": {
   "codemirror_mode": {
    "name": "ipython",
    "version": 3
   },
   "file_extension": ".py",
   "mimetype": "text/x-python",
   "name": "python",
   "nbconvert_exporter": "python",
   "pygments_lexer": "ipython3",
   "version": "3.9.12"
  },
  "vscode": {
   "interpreter": {
    "hash": "74355c5981df05493895769b18525b4292811141f0550f4676811cfb75586be5"
   }
  }
 },
 "nbformat": 4,
 "nbformat_minor": 2
}
