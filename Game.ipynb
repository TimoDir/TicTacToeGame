{
 "cells": [
  {
   "cell_type": "markdown",
   "metadata": {},
   "source": [
    "# Tic Tac Toe game Project:\n",
    "In this project, I must use what I've learned to create a Tic Tac Toe game.\n",
    "\n",
    "Requirements:\n",
    "\n",
    "* 2 players should be able to play the game (both sitting at the same computer)\n",
    "* The board should be printed out every time a player makes a move\n",
    "* You should be able to accept input of the player position and then place a symbol on the board"
   ]
  },
  {
   "cell_type": "code",
   "execution_count": 47,
   "metadata": {},
   "outputs": [],
   "source": [
    "# Creation of the variable olding the board game and the player turn\n",
    "boardgame = [   ['     ','|','  A  ','|','  B  ','|','  C  ','|'],\n",
    "                ['_____','_','_____','_','_____','_','_____','_'],\n",
    "                ['  1  ','|','  .  ','|','  .  ','|','  .  ','|'],\n",
    "                ['_____','_','_____','_','_____','_','_____','_'],\n",
    "                ['  2  ','|','  .  ','|','  .  ','|','  .  ','|'],\n",
    "                ['_____','_','_____','_','_____','_','_____','_'],\n",
    "                ['  3  ','|','  .  ','|','  .  ','|','  .  ','|'],\n",
    "                ['_____','_','_____','_','_____','_','_____','_'],]\n",
    "player = '-Player 1-'\n",
    "# for row in boardgame: print(''.join(row))"
   ]
  },
  {
   "cell_type": "code",
   "execution_count": 54,
   "metadata": {},
   "outputs": [],
   "source": [
    "# who will be used to reinitiat the board and to play the game\n",
    "def reset(boardgame):\n",
    "    global player\n",
    "    player = '-Player 1-'\n",
    "    boardgame = [   ['     ','|','  A  ','|','  B  ','|','  C  ','|'],\n",
    "                    ['_____','_','_____','_','_____','_','_____','_'],\n",
    "                    ['  1  ','|','  .  ','|','  .  ','|','  .  ','|'],\n",
    "                    ['_____','_','_____','_','_____','_','_____','_'],\n",
    "                    ['  2  ','|','  .  ','|','  .  ','|','  .  ','|'],\n",
    "                    ['_____','_','_____','_','_____','_','_____','_'],\n",
    "                    ['  3  ','|','  .  ','|','  .  ','|','  .  ','|'],\n",
    "                    ['_____','_','_____','_','_____','_','_____','_'],]\n",
    "    return boardgame"
   ]
  },
  {
   "cell_type": "code",
   "execution_count": 39,
   "metadata": {},
   "outputs": [],
   "source": [
    "# Importation of the clear_output function\n",
    "from IPython.display import clear_output\n",
    "\n",
    "# creation of the function who will take car of the user choice\n",
    "def position_choice():\n",
    "    choice = 'Wrong'\n",
    "    while choice not in ['A1','A2','A3','B1','B2','B3','C1','C2','C3',]:\n",
    "        choice = input('Place your token by choising a position with a letter between A-C and a number 1-3 :')\n",
    "        if choice not in ['A1','A2','A3','B1','B2','B3','C1','C2','C3',]:\n",
    "            clear_output()\n",
    "            print(\"You didn't chose a good position, chose a letter between A-C and a number 1-3 exemple:'A1' for the corner up left.\")\n",
    "    return choice"
   ]
  },
  {
   "cell_type": "code",
   "execution_count": 40,
   "metadata": {},
   "outputs": [],
   "source": [
    "# Creation of a function who will intervet player turn and token used\n",
    "def gamer():\n",
    "    global player\n",
    "    if player == '-Player 1-':\n",
    "        print(f\"It's {player} turn:\")\n",
    "        player = '-Player 2-'\n",
    "        return '  O  '\n",
    "    elif player == '-Player 2-':\n",
    "        print(f\"It's {player} turn:\")\n",
    "        player = '-Player 1-'\n",
    "        return '  X  '\n",
    "    else :\n",
    "        print(f\"It's {player} turn:\")\n",
    "        player = '-Player 1-'\n",
    "        return '  O  '\n",
    "        \n",
    "    "
   ]
  },
  {
   "cell_type": "code",
   "execution_count": 41,
   "metadata": {},
   "outputs": [],
   "source": []
  }
 ],
 "metadata": {
  "kernelspec": {
   "display_name": "Python 3.9.12 ('base')",
   "language": "python",
   "name": "python3"
  },
  "language_info": {
   "codemirror_mode": {
    "name": "ipython",
    "version": 3
   },
   "file_extension": ".py",
   "mimetype": "text/x-python",
   "name": "python",
   "nbconvert_exporter": "python",
   "pygments_lexer": "ipython3",
   "version": "3.9.12"
  },
  "orig_nbformat": 4,
  "vscode": {
   "interpreter": {
    "hash": "74355c5981df05493895769b18525b4292811141f0550f4676811cfb75586be5"
   }
  }
 },
 "nbformat": 4,
 "nbformat_minor": 2
}
