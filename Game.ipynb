{
 "cells": [
  {
   "cell_type": "markdown",
   "metadata": {},
   "source": [
    "# Tic Tac Toe game Project:\n",
    "In this project, I must use what I've learned to create a Tic Tac Toe game.\n",
    "\n",
    "Requirements:\n",
    "\n",
    "* 2 players should be able to play the game (both sitting at the same computer)\n",
    "* The board should be printed out every time a player makes a move\n",
    "* You should be able to accept input of the player position and then place a symbol on the board"
   ]
  },
  {
   "cell_type": "code",
   "execution_count": 12,
   "metadata": {},
   "outputs": [],
   "source": [
    "# Creation of the initial board game who will be used to reinitiat the board and to play the game\n",
    "initial_boardgame = [   ['     ','|','  A  ','|','  B  ','|','  C  ','|'],\n",
    "                        ['_____','_','_____','_','_____','_','_____','_'],\n",
    "                        ['  1  ','|','  .  ','|','  .  ','|','  .  ','|'],\n",
    "                        ['_____','_','_____','_','_____','_','_____','_'],\n",
    "                        ['  2  ','|','  .  ','|','  .  ','|','  .  ','|'],\n",
    "                        ['_____','_','_____','_','_____','_','_____','_'],\n",
    "                        ['  3  ','|','  .  ','|','  .  ','|','  .  ','|'],\n",
    "                        ['_____','_','_____','_','_____','_','_____','_'],]\n",
    "\n",
    "boardgame = initial_boardgame\n",
    "# for row in boardgame: print(''.join(row))"
   ]
  },
  {
   "cell_type": "code",
   "execution_count": null,
   "metadata": {},
   "outputs": [],
   "source": []
  }
 ],
 "metadata": {
  "kernelspec": {
   "display_name": "Python 3.9.12 ('base')",
   "language": "python",
   "name": "python3"
  },
  "language_info": {
   "codemirror_mode": {
    "name": "ipython",
    "version": 3
   },
   "file_extension": ".py",
   "mimetype": "text/x-python",
   "name": "python",
   "nbconvert_exporter": "python",
   "pygments_lexer": "ipython3",
   "version": "3.9.12"
  },
  "orig_nbformat": 4,
  "vscode": {
   "interpreter": {
    "hash": "74355c5981df05493895769b18525b4292811141f0550f4676811cfb75586be5"
   }
  }
 },
 "nbformat": 4,
 "nbformat_minor": 2
}
